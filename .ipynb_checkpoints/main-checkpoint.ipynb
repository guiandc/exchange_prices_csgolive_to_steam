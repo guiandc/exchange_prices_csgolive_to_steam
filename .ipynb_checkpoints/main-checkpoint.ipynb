{
 "cells": [
  {
   "cell_type": "code",
   "execution_count": 1,
   "id": "318ca6ee",
   "metadata": {},
   "outputs": [],
   "source": [
    "import sys\n",
    "from time import sleep\n",
    "import requests\n",
    "import re"
   ]
  },
  {
   "cell_type": "code",
   "execution_count": 2,
   "id": "f6110a2d",
   "metadata": {},
   "outputs": [],
   "source": [
    "def getCsgoLiveItemList(min_price, max_price):\n",
    "    link_csgolive = \"https://www.csgolive.com/v1/instant/inventory/\"\n",
    "    request = requests.get(link_csgolive)\n",
    "    sleep(1)\n",
    "\n",
    "    item_list = []\n",
    "\n",
    "    for i in request.json()['response']:\n",
    "        item_price = i['price']\n",
    "        if (item_price >= min_price and item_price <= max_price):\n",
    "            item_name = i['market_name']\n",
    "            item_list += [[item_name, item_price]]\n",
    "            \n",
    "    return item_list\n"
   ]
  },
  {
   "cell_type": "code",
   "execution_count": 3,
   "id": "0ae0cf03",
   "metadata": {},
   "outputs": [],
   "source": [
    "def calcutatingPrices(item):\n",
    "    try:\n",
    "        if float(item[2]) > 0:\n",
    "            profit = round(float(item[2])/float(item[1]),2)\n",
    "        else:\n",
    "            profit = 0\n",
    "    except Exception:\n",
    "        profit = 0\n",
    "    showResults(item[0], item[1], item[2], profit)"
   ]
  },
  {
   "cell_type": "code",
   "execution_count": 4,
   "id": "b31f840c",
   "metadata": {},
   "outputs": [],
   "source": [
    "def showResults(name, dolar, real, profit):\n",
    "    if profit < 6:\n",
    "        print('\\033[1;31m', name, '       ', dolar, '       ', real, '       ', profit)\n",
    "    elif profit < 7:\n",
    "        print('\\033[1;32m', name, '       ', dolar, '       ', real, '       ', profit)\n",
    "    elif profit < 8:\n",
    "        print('\\033[1;33m', name, '       ', dolar, '       ', real, '       ', profit)\n",
    "    elif profit < 9:\n",
    "        print('\\033[1;34m', name, '       ', dolar, '       ', real, '       ', profit)\n",
    "    else:\n",
    "        print('\\033[1;35m', name, '       ', dolar, '       ', real, '       ', profit)\n",
    "        \n",
    "    print('\\033[1;30m')"
   ]
  },
  {
   "cell_type": "code",
   "execution_count": 5,
   "id": "401d9577",
   "metadata": {},
   "outputs": [],
   "source": [
    "def getItemSteamLink(item):\n",
    "    finalLink = 'https://steamcommunity.com/market/priceoverview/?country=BR&currency=7&appid=730&market_hash_name=' + item \\\n",
    "                .replace(' ', '%20')\\\n",
    "                .replace('|', '%7C')\\\n",
    "                .replace('(', '%28')\\\n",
    "                .replace(')', '%29')\n",
    "    return str(finalLink)"
   ]
  },
  {
   "cell_type": "code",
   "execution_count": 6,
   "id": "e119f36e",
   "metadata": {},
   "outputs": [],
   "source": [
    "def getSteamPrice(item_list):\n",
    "    print(\"Consultando preços...\")\n",
    "    for item in item_list:\n",
    "        #abre uma pagína para cada 1 dos itens listados\n",
    "        link = getItemSteamLink(item_list[item_list.index(item)][0])\n",
    "        request = requests.get(link)\n",
    "        #print(request, request.text, , link)\n",
    "        sleep(2.0)\n",
    "\n",
    "        if request.status_code != 200:\n",
    "            for i in range(3):\n",
    "                sleep(10)\n",
    "                request = requests.get(link)\n",
    "                #print(request, link)\n",
    "\n",
    "        try:\n",
    "            price = float((re.findall(\"[0123456789,]+\", request.json()[\"lowest_price\"])[0]).replace(\",\", \".\"))\n",
    "        except Exception:\n",
    "            price = 0\n",
    "\n",
    "        item_list[item_list.index(item)].append(price)\n",
    "        calcutatingPrices(item_list[item_list.index(item)])"
   ]
  },
  {
   "cell_type": "code",
   "execution_count": 7,
   "id": "0725485b",
   "metadata": {},
   "outputs": [],
   "source": [
    "#parametros de filtro csgolive\n",
    "min_price = 0.10\n",
    "max_price = 0.34"
   ]
  },
  {
   "cell_type": "code",
   "execution_count": 8,
   "id": "eef620fd",
   "metadata": {},
   "outputs": [],
   "source": [
    "#gera lista de itens listados no csgo live\n",
    "item_list = getCsgoLiveItemList(min_price, max_price)"
   ]
  },
  {
   "cell_type": "code",
   "execution_count": 9,
   "id": "1b55ff1b",
   "metadata": {},
   "outputs": [],
   "source": [
    "#função passada no parâmetro: ordena pelo preço em ordem (True = decrescente, False = crescente)\n",
    "item_list.sort(key=lambda x: x[1], reverse=True)"
   ]
  },
  {
   "cell_type": "code",
   "execution_count": null,
   "id": "a3656f8c",
   "metadata": {},
   "outputs": [
    {
     "name": "stdout",
     "output_type": "stream",
     "text": [
      "Consultando preços...\n",
      "\u001b[1;33m Sawed-Off | Amber Fade (Minimal Wear)         0.34         2.49         7.32\n",
      "\u001b[1;30m\n",
      "\u001b[1;31m Sealed Graffiti | Dizzy (Bazooka Pink)         0.34         0.73         2.15\n",
      "\u001b[1;30m\n",
      "\u001b[1;33m StatTrak™ Tec-9 | Rebel (Minimal Wear)         0.34         2.66         7.82\n",
      "\u001b[1;30m\n"
     ]
    }
   ],
   "source": [
    "getSteamPrice(item_list)"
   ]
  }
 ],
 "metadata": {
  "kernelspec": {
   "display_name": "Python 3 (ipykernel)",
   "language": "python",
   "name": "python3"
  },
  "language_info": {
   "codemirror_mode": {
    "name": "ipython",
    "version": 3
   },
   "file_extension": ".py",
   "mimetype": "text/x-python",
   "name": "python",
   "nbconvert_exporter": "python",
   "pygments_lexer": "ipython3",
   "version": "3.9.12"
  }
 },
 "nbformat": 4,
 "nbformat_minor": 5
}
